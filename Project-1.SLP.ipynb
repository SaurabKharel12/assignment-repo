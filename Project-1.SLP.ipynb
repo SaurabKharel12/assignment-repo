{
 "cells": [
  {
   "cell_type": "code",
   "execution_count": 21,
   "id": "d69b2ce7-f33d-4d6d-8da4-d622c6affbce",
   "metadata": {},
   "outputs": [
    {
     "name": "stdout",
     "output_type": "stream",
     "text": [
      "Accuracy: 0.64\n",
      "Precision: 0.46\n",
      "Recall: 0.24\n",
      "F1 Score: 0.32\n",
      "\n",
      "Classification Report:\n",
      "               precision    recall  f1-score   support\n",
      "\n",
      "           0       0.67      0.85      0.75       100\n",
      "           1       0.46      0.24      0.32        54\n",
      "\n",
      "    accuracy                           0.64       154\n",
      "   macro avg       0.57      0.55      0.53       154\n",
      "weighted avg       0.60      0.64      0.60       154\n",
      "\n"
     ]
    }
   ],
   "source": [
    "import pandas as pd\n",
    "from sklearn.model_selection import train_test_split\n",
    "from sklearn.preprocessing import StandardScaler\n",
    "from sklearn.linear_model import Perceptron\n",
    "from sklearn.metrics import accuracy_score, precision_score, recall_score, f1_score, classification_report\n",
    "\n",
    "df = pd.read_csv('diabetes.csv')\n",
    "A = df.drop('Outcome', axis=1)\n",
    "b = df['Outcome']\n",
    "\n",
    "scaler = StandardScaler()\n",
    "A_scaled = scaler.fit_transform(A)\n",
    "\n",
    "#A_train, A_test, b_train, b_test = train_test_split(A_scaled, b, test_size=0.40, random_state=3, st)\n",
    "A_train, A_test, b_train, b_test = train_test_split(A_scaled, b, test_size=0.20, random_state=3, stratify=b)\n",
    "\n",
    "\n",
    "perceptron = Perceptron(max_iter=700, tol=1e-3, random_state=200)\n",
    "perceptron.fit(A_train, b_train)\n",
    "\n",
    "b_pred = perceptron.predict(A_test)\n",
    "\n",
    "accuracy = accuracy_score(b_test, b_pred)\n",
    "print(f'Accuracy: {accuracy:.2f}')\n",
    "\n",
    "precision = precision_score(b_test, b_pred)\n",
    "recall = recall_score(b_test, b_pred)\n",
    "f1 = f1_score(b_test, b_pred)\n",
    "\n",
    "print(f'Precision: {precision:.2f}')\n",
    "print(f'Recall: {recall:.2f}')\n",
    "print(f'F1 Score: {f1:.2f}')\n",
    "\n",
    "# Classification report\n",
    "print(\"\\nClassification Report:\\n\", classification_report(b_test, b_pred))\n"
   ]
  },
  {
   "cell_type": "code",
   "execution_count": null,
   "id": "e794e57e-e827-4b3e-842b-3abf3d92fdfa",
   "metadata": {},
   "outputs": [],
   "source": []
  }
 ],
 "metadata": {
  "kernelspec": {
   "display_name": "Python 3 (ipykernel)",
   "language": "python",
   "name": "python3"
  },
  "language_info": {
   "codemirror_mode": {
    "name": "ipython",
    "version": 3
   },
   "file_extension": ".py",
   "mimetype": "text/x-python",
   "name": "python",
   "nbconvert_exporter": "python",
   "pygments_lexer": "ipython3",
   "version": "3.12.4"
  }
 },
 "nbformat": 4,
 "nbformat_minor": 5
}
